{
 "cells": [
  {
   "cell_type": "markdown",
   "metadata": {},
   "source": [
    "# Welcome!\n",
    "\n",
    "This is a Jupyter Notebook. We will be using Jupyter Notebooks to learn how to program. This introductory notebook is designed to introduce you to Jupyter Notebooks and Python. This notebook and following notebooks will help you get you familiar with Jupyter Notebooks, writing small Python statements, and debugging Python code. This foundation will help you go from Non-Programmer to Aspiring Programming Ninja! Keep in mind that we only have time to scratch the surface, but this will get you going."
   ]
  },
  {
   "cell_type": "markdown",
   "metadata": {},
   "source": [
    "## What you will learn in this notebook: \n",
    "  \n",
    "- How to write your first line of Python code\n",
    "- How to \"Print\" to the Screen\n",
    "- Variables\n",
    "- Data Types\n",
    "- Comments\n",
    "- Reserved Words"
   ]
  },
  {
   "cell_type": "markdown",
   "metadata": {},
   "source": [
    "## Hello World!\n",
    "\n",
    "The coder's rite of passage is called 'Hello World!' It is the first step to programming and an easy way to introduce novice programmers to a new programming langauge. This simple program dates back to the mid-70's in some of the earliest programming books and tutorials in computing.\n",
    "\n",
    "In this first exercise you will write your first computer code, tell the computer to run your code, and see the results! \n",
    "\n",
    "Below this description is a grey box called a Code Cell. This is where you will write your first computer program! You will then run your code to see what it does. So let's get to the excitement.\n",
    "\n",
    "Simply type the following code in the Code Cell below:\n",
    "\n",
    "`print(\"Hello World!\")` \n",
    "\n",
    "\n",
    "To run your code press the \"Run\" button above. When you run your code, the output should look like this:\n",
    ">Hello World!\n"
   ]
  },
  {
   "cell_type": "code",
   "execution_count": null,
   "metadata": {},
   "outputs": [],
   "source": []
  },
  {
   "cell_type": "markdown",
   "metadata": {},
   "source": [
    "## What do you want your computer to say?\n",
    "\n",
    "Change the phrase *Hello World!* to something else. Write your print statement below and make sure you keep the double quotes. \n",
    "\n",
    "Then run your code below.\n",
    "\n",
    "(**Hint:** Press 'Control' + 'Enter' on your keyboard to run a code cell as well) \n"
   ]
  },
  {
   "cell_type": "code",
   "execution_count": null,
   "metadata": {},
   "outputs": [],
   "source": [
    "#Use this cell to write your message to the world. Don't worry, this text won't show up! We'll talk about this soon!\n",
    "\n"
   ]
  },
  {
   "cell_type": "markdown",
   "metadata": {},
   "source": [
    "### Oops, mistakes happen. It is part of the process.\n",
    "\n",
    "**_Every_** programmer makes mistakes. Computers are kind enough to tell us we made a mistake, which is called an Error (or a bug). To get the code to run it is your job as a programming to fix all of the mistakes. This is called **debugging**. So we will start with a simple example.\n",
    "\n",
    "First, run the code cell below.\n",
    "\n",
    "Second, fix the code so that it prints out correctly. If you get stuck, compare this code to your code above. Sometimes the \"^\" symbol provides a useful hint."
   ]
  },
  {
   "cell_type": "code",
   "execution_count": null,
   "metadata": {},
   "outputs": [],
   "source": [
    "Print(\"Coding is fun!"
   ]
  },
  {
   "cell_type": "markdown",
   "metadata": {},
   "source": [
    "## Variables\n",
    "\n",
    "In Python, you can create **variables** to hold your data. Python can hold different types of data. We'll get to the different data types later. For now, run the code in the cells below. \n",
    "\n",
    "Notice how the first cell does not have an output! \n",
    "\n",
    "You simply assigned a variable, to print it out, you need to follow it up with a print() statement!\n",
    "\n",
    "Notice that \"x\" is not printed but rather the **value** of the variable (5) is printed."
   ]
  },
  {
   "cell_type": "code",
   "execution_count": null,
   "metadata": {},
   "outputs": [],
   "source": [
    "x = 5"
   ]
  },
  {
   "cell_type": "markdown",
   "metadata": {},
   "source": [
    "Let's print out the value of 5 by running the code below."
   ]
  },
  {
   "cell_type": "code",
   "execution_count": null,
   "metadata": {},
   "outputs": [],
   "source": [
    "print(x)"
   ]
  },
  {
   "cell_type": "markdown",
   "metadata": {},
   "source": [
    "## Key Data Types\n",
    "\n",
    "Here are some basic data types that many programming languages use. We've already used two of them!\n",
    "\n",
    "\n",
    "* **Strings**: Text usually marked with \" \" or ' '\n",
    "* **Integers**: 1 or 45 or -899\n",
    "* **Floats**: 1.2343 or 3.14 or -1.00001\n",
    "* **Boolean**: True or False\n",
    "\n",
    "You can assign and print all data types, and later on we will work on combining them. Use the next four cells to assign a different data type to a variable and print it! (Notice in programming you get to decide variable names and how to use them)\n",
    "\n",
    "> variable_name = data type\n"
   ]
  },
  {
   "cell_type": "code",
   "execution_count": null,
   "metadata": {},
   "outputs": [],
   "source": [
    "# String"
   ]
  },
  {
   "cell_type": "code",
   "execution_count": null,
   "metadata": {},
   "outputs": [],
   "source": [
    "# Integer"
   ]
  },
  {
   "cell_type": "code",
   "execution_count": null,
   "metadata": {},
   "outputs": [],
   "source": [
    "# Float"
   ]
  },
  {
   "cell_type": "code",
   "execution_count": null,
   "metadata": {},
   "outputs": [],
   "source": [
    "# Boolean"
   ]
  },
  {
   "cell_type": "markdown",
   "metadata": {},
   "source": [
    "## Comments\n",
    "\n",
    "You may have noticed the hashtag or pound sign being used <font color = red>**\\#**</font>. This is called a **comment** when used in Python code cells. \n",
    "\n",
    "Everything on the line after a **\\#** will not be read by the computer. This allows you to write notes to people inside of code.\n",
    "\n",
    "**Comments help explain what is happening in the code, help readers understand the code, and tell *why* the code was written. You may remember what you are writing now, but if you are coming back after a month or a year you may not remember so it is vital to comment to help yourself (or another scientist) later**\n",
    "\n",
    "Example: \n",
    "\n",
    "`print(\"Hello World\", \"Does this make sense?\") #This won't show up`\n",
    ">Hello World Does this make sense?"
   ]
  },
  {
   "cell_type": "code",
   "execution_count": 6,
   "metadata": {},
   "outputs": [
    {
     "name": "stdout",
     "output_type": "stream",
     "text": [
      "University of Minnesota was founded in 1851\n",
      "Joan Gabel is the President\n",
      "Located In Minneapolis and Falcon Heights\n"
     ]
    }
   ],
   "source": [
    "# With comments, you should be able to follow along, even if you don't understand everything that is happening in the code!\n",
    "\n",
    "# This cell will print out a nested list that will give some details about the University of Minnesota.\n",
    "\n",
    "# Declaring a list variable called PrintList, which contains 3 lists (a nested list). \n",
    "# Each list contains several strings.\n",
    "PrintList = [['University of Minnesota', 'Joan Gabel', 'Located'],  # list 1\n",
    "             [\"was founded in\", \"is the\", \"in\"],                    # list 2\n",
    "             [1851, 'President', 'Minneapolis and Falcon Heights']] # list 3 within main list\n",
    "\n",
    "# Declare a variable called Numbers that creates an list of numbers going from 0 to the number of elements in the PrintList\n",
    "Numbers = range(len(PrintList))\n",
    "\n",
    "# For loop, which prints out each element (i.e., each string) in the PrintList variable above.\n",
    "for i in Numbers: #Loops through Numbers\n",
    "    print(PrintList[0][i], PrintList[1][i], PrintList[2][i]) # Prints out the value located at 0,0 then 0,1 then 0,2\n",
    "                                                             # then goes to 1,0 then 1,1, etc. \n",
    "                                                             # So the first strings are printed first (in order from 1,2,3)\n",
    "        \n",
    "# At this stage, you are probably a bit nervous looking at that complex Python code.\n",
    "# Don't worry!\n",
    "# For now, just focus on the comments to start to understand what the code is doing.\n",
    "# Look at the top comment again, which explains WHAT is going on.\n",
    "# Can you guess what will happen before you run the code?"
   ]
  },
  {
   "cell_type": "code",
   "execution_count": 4,
   "metadata": {},
   "outputs": [
    {
     "name": "stdout",
     "output_type": "stream",
     "text": [
      "I am: crushing this!\n"
     ]
    }
   ],
   "source": [
    "#Use this cell to print out how you are feeling about coding\n",
    "#HINT: Comment out 2 of the \"CodeTwo\" variables so the code will print out how you feel about coding right now.\n",
    "\n",
    "VariableOne = \"I am:\"\n",
    "\n",
    "VariableTwo = \"terrified...\"\n",
    "VariableTwo = \"up to the challenge?\"\n",
    "VariableTwo = \"crushing this!\"\n",
    "\n",
    "print(VariableOne, VariableTwo)"
   ]
  },
  {
   "cell_type": "markdown",
   "metadata": {},
   "source": [
    "## Reserved Words "
   ]
  },
  {
   "cell_type": "markdown",
   "metadata": {},
   "source": [
    "<tt>**and, del, global, not, with, as, elif, if, or, yield, assert, else, import, pass, break, except, in, raise, class, finally, is, return, continue, for, lambda, try, def, from, nonlocal, while **</tt>\n",
    "\n",
    "\n",
    "These are words that are considered reserved words in Python. (See page 5 or [Section 1.5](https://eng.libretexts.org/Bookshelves/Computer_Science/Book%3A_Python_for_Everybody_(Severance)/1%3A_Introduction/1.05%3A_Words_and_Sentences) in [Python for Everybody](https://www.py4e.com/book.php)). Each of these words has a special purpose in Python and may cause problems if used incorrectly. There is no need to memorize all of them at this point, but keep this for future reference. (*Hint: They may be highlighted a different color in Jupyter Notebooks*) You cannot name variables as these words. Notice how they change colors when typed into the cell below! Jupyter notebooks helps you with syntax highlighting to help make the code readable. It changes the colors on strings, numbers, reserved words, boolean, and more! You'll notice this as we dig deeper!"
   ]
  },
  {
   "cell_type": "code",
   "execution_count": 3,
   "metadata": {},
   "outputs": [],
   "source": [
    "#Use this cell to see what happens when you type the reserved words\n",
    "\n"
   ]
  },
  {
   "cell_type": "markdown",
   "metadata": {},
   "source": [
    "# Let's play"
   ]
  },
  {
   "cell_type": "code",
   "execution_count": null,
   "metadata": {},
   "outputs": [],
   "source": [
    "# Here we can play around and try some programming.\n",
    "\n"
   ]
  },
  {
   "cell_type": "markdown",
   "metadata": {},
   "source": [
    "# Coming up next ...\n",
    "\n",
    "## Mini Research Story\n",
    "\n",
    "This mini research story aims to calculate how much money an American worker will make based on the number of hours they work in a week. Traditionally, in America if you work over 40 hours in a single week, then you earn overtime for each hour over 40. Let's assume that overtime is 1.5 times the typical hourly rate.\n",
    "\n",
    "So if someone makes \\$10 per hour and they work the following hours, this is how much they should earn:\n",
    "\n",
    "- 10 hours = \\$100\n",
    "- 40 hours = \\$400\n",
    "- 41 hours = \\$415\n",
    "- 60 hours = \\$700\n",
    "\n",
    "A few questions to ask to work on our mini research story. What input (data) do we need? What do we need to calculate? What variables might we need? What do we need to output?"
   ]
  },
  {
   "cell_type": "markdown",
   "metadata": {},
   "source": [
    "## Congratulations!\n",
    "\n",
    "You have completed the first notebook! You are officially a programmer.\n",
    "\n",
    "Looking for a bit more? The Fundamentals notebook is next. \n",
    "\n",
    "If you can't wait, then take a look at the (online) book \"Python for Everybody\" which is an Open Educational Resource (read free!). https://www.py4e.com/book.php\n",
    "\n"
   ]
  }
 ],
 "metadata": {
  "kernelspec": {
   "display_name": "Python 3",
   "language": "python",
   "name": "python3"
  },
  "language_info": {
   "codemirror_mode": {
    "name": "ipython",
    "version": 3
   },
   "file_extension": ".py",
   "mimetype": "text/x-python",
   "name": "python",
   "nbconvert_exporter": "python",
   "pygments_lexer": "ipython3",
   "version": "3.7.0"
  }
 },
 "nbformat": 4,
 "nbformat_minor": 2
}
