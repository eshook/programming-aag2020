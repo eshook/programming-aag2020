{
 "cells": [
  {
   "cell_type": "markdown",
   "metadata": {},
   "source": [
    "# Welcome! \n",
    "\n",
    "This is the fundamentals Jupter Notebook. Here you will review and build on your previous programming experience from Hello World. \n",
    "\n",
    "## What you will learn in this notebook: \n",
    "- More Comments\n",
    "- Boolean Expressions\n",
    "- Math\n",
    "- Manual Input\n",
    "- Conditionals\n",
    "- Casting Variables\n",
    "- More Math!"
   ]
  },
  {
   "cell_type": "markdown",
   "metadata": {},
   "source": [
    "\n",
    "## Commenting Cost of a Haircut\n",
    "Below is a piece of Python code. The objective of this exercise is to follow along and **comment** what is going on at each step in your own words. \n",
    "\n",
    "* <i> Note: You only need to comment the code.</i>\n",
    "\n",
    "Explanation: You want to get a haircut, but need some help calculating a total cost with a tip and tax included. After much thought, you remember that you already wrote a Python script to do this. The only problem is that you forgot what you did, and you now need to comment the script to understand what is going on. Follow along and **comment** what is happening at each step. \n",
    "\n",
    "\n",
    "* **Cost of the Haircut:** $19.87\n",
    "* **Tax: **  4.3%\n",
    "* **Tip: **  20%"
   ]
  },
  {
   "cell_type": "code",
   "execution_count": null,
   "metadata": {},
   "outputs": [],
   "source": [
    "hairCut = 19.87\n",
    "tax = 4.3/100\n",
    "tip = 20/100\n",
    "\n",
    "hairCutTax = hairCut * tax\n",
    "hairCut = hairCutTax + hairCut\n",
    "totalTip = hairCut * tip\n",
    "totalPrice = totalTip + hairCut\n",
    "print(\"The total price of the haircut is\", totalPrice, \"dollars.\")"
   ]
  },
  {
   "cell_type": "markdown",
   "metadata": {},
   "source": [
    "## Boolean Expressions (True or False?)\n",
    "\n",
    "For the following questions, alter the code to output either True or False. **Comment** what you have changed.  If you need a refresher on this topic, please consult [**Python for Everybody**](https://www.py4e.com/book.php). \n",
    "\n",
    "You'll notice operators here, they are just like math class! \n",
    "- `<` Less than\n",
    "- `>` Greater than\n",
    "- `==` Equal to\n",
    "- `!=` Not Equal to\n",
    "- `<=` Less than **or** Equal to\n",
    "- `>=` Greater than **or** Equal to\n",
    "\n",
    "Change the operators in the cells below to match their instructions!"
   ]
  },
  {
   "cell_type": "markdown",
   "metadata": {},
   "source": [
    "Alter the code to output **True** when it's run."
   ]
  },
  {
   "cell_type": "code",
   "execution_count": null,
   "metadata": {},
   "outputs": [],
   "source": [
    "57 > 88 "
   ]
  },
  {
   "cell_type": "markdown",
   "metadata": {},
   "source": [
    "Alter the code to output **False** when it's run."
   ]
  },
  {
   "cell_type": "code",
   "execution_count": null,
   "metadata": {},
   "outputs": [],
   "source": [
    "110 != 111"
   ]
  },
  {
   "cell_type": "markdown",
   "metadata": {},
   "source": [
    "Alter the code to output **True** when it's run."
   ]
  },
  {
   "cell_type": "code",
   "execution_count": null,
   "metadata": {},
   "outputs": [],
   "source": [
    "(23 * 3) > (6 * 9) + (6 + 9)"
   ]
  },
  {
   "cell_type": "markdown",
   "metadata": {},
   "source": [
    "Alter this code to output **True** when it's run."
   ]
  },
  {
   "cell_type": "code",
   "execution_count": null,
   "metadata": {},
   "outputs": [],
   "source": [
    "\"Python\" == \"Java\""
   ]
  },
  {
   "cell_type": "code",
   "execution_count": null,
   "metadata": {},
   "outputs": [],
   "source": [
    "# We can use boolean expressions in conditional (if) statements\n",
    "\n",
    "if \"Python\" > \"Java\":\n",
    "    print(\"I knew it! I always thought Python was greater than Java!\")\n"
   ]
  },
  {
   "cell_type": "code",
   "execution_count": null,
   "metadata": {},
   "outputs": [],
   "source": [
    "# More interestingly we can use conditionals to check data\n",
    "# Write code below that will check if data_element is between the values of 10.1 and 20.2.\n",
    "# If it is print out \"IN_RANGE\" if not print out \"OUT_OF_RANGE\"\n",
    "\n",
    "data_element = 12\n",
    "\n"
   ]
  },
  {
   "cell_type": "markdown",
   "metadata": {},
   "source": [
    "## The Math Module\n",
    "\n",
    "For the next questions, we need to make use of &pi;. Instead of declaring a variable and rounding &pi; to something like <tt>**pi**=3.14159</tt>, we'll <tt>**import math**</tt> and use its constant for &pi;. Constants are similar to variables in that they have a value attached to name, but the difference is in the name: constants don't vary as variables can. Constants represent values and like other values constants have types.\n",
    "\n",
    "The cell below first imports the <tt>**math**</tt> module, then accesses the constant as <tt>**math.pi**</tt>."
   ]
  },
  {
   "cell_type": "code",
   "execution_count": null,
   "metadata": {},
   "outputs": [],
   "source": [
    "import math\n",
    "print(\"Math modules provides math.pi as:\", math.pi)\n",
    "print(\"2*pi =\", 2 * math.pi)"
   ]
  },
  {
   "cell_type": "markdown",
   "metadata": {},
   "source": [
    "## Calculate the Circumference of a Circle "
   ]
  },
  {
   "cell_type": "markdown",
   "metadata": {},
   "source": [
    "Recall that the circumference of a circle can be found with this equation: _C=2&pi;r_. Set a variable named <tt>**circleCir**</tt> to be the circumference of a circle with a radius of 80\". Construct a <tt>**print**</tt> statement using that variable that outputs the following\n",
    "\n",
    "<blockquote>A circle with a radius of 80 inches has an circumference of 502.6548245743669 inches.</blockquote>"
   ]
  },
  {
   "cell_type": "code",
   "execution_count": null,
   "metadata": {},
   "outputs": [],
   "source": []
  },
  {
   "cell_type": "markdown",
   "metadata": {},
   "source": [
    "##  Print Your Circumference *Cleanly*\n",
    "Often, we don't want to display data with lots of significant digits. We'll make use of the <tt>**round**</tt> function for this. First, check out the [docs for the <tt>round</tt> function](https://docs.python.org/3/library/functions.html#round).\n",
    "\n",
    "Use the same print format as the previous question, but print the value of <tt>**circleCir**</tt> rounded to the nearest hundredth of a square inch in the output.\n",
    "\n",
    "Hint: A function that _returns_ a value can be used as a parameter in another function. The <tt>**print**</tt> function doesn't return the printed value, it prints it. The <tt>**round**</tt> function returns a rounded number. For instance, if you have a variable (call it <tt>**circleCir**</tt>) and a function (<tt>**round**</tt>) that manipulates that data passed into it and _returns_ that manipulated data, you can call your function directly in another function, e.g.,\n",
    "\n",
    "   `print(\"Rounded Circumference = \", round(circleCir, 2))`\n",
    "    \n",
    "There is no need to declare a variable to hold the value of your processed data, as shown below.\n",
    "\n",
    "  `roundedData = round(circleCir, 1000000)`\n",
    "  `print(\"Rounded Circumference = \", roundedData)`"
   ]
  },
  {
   "cell_type": "code",
   "execution_count": null,
   "metadata": {},
   "outputs": [],
   "source": [
    "# Round your circumference here\n"
   ]
  },
  {
   "cell_type": "markdown",
   "metadata": {},
   "source": [
    "## Manual Input\n",
    "\n",
    "You can also ask for a input in Python. Run the code below and see how you can utilize this function! We will use it in a bit so make sure you have it down!\n",
    "\n",
    "For more information about the function, see [docs for the <tt>input</tt> function](https://docs.python.org/3/library/functions.html#input)."
   ]
  },
  {
   "cell_type": "code",
   "execution_count": null,
   "metadata": {},
   "outputs": [],
   "source": [
    "feedback = input(\"How are you feeling about coding? \")\n",
    "\n",
    "print(\"You are feeling\", feedback)"
   ]
  },
  {
   "cell_type": "code",
   "execution_count": null,
   "metadata": {},
   "outputs": [],
   "source": [
    "# Always check your code! Sanity checks are crucial to ensure your results are valid.\n",
    "# Sometimes the results can surprise you when the computer does exactly what you tell it to do.\n",
    "\n",
    "# Ask for ages of two children\n",
    "age5 = input(\"How old is a 5 year old? \")\n",
    "age6 = input(\"How old is a 6 year old? \")\n",
    "\n",
    "# Add the ages together\n",
    "combined_age = age5+age6\n",
    "\n",
    "# Ask for combined ages\n",
    "age11 = input(\"What is the combined age of these children (hint: 11)? \")\n",
    "\n",
    "# Check to make sure the ages are the same\n",
    "if combined_age != age11:\n",
    "    # If they are not equal (!=) print an error\n",
    "    print(\"[ ERROR ] There is a problem! 5+6 is not equal to 11!\")\n",
    "    print(\"Adding the ages together is:\", combined_age)\n",
    "    print(\"Your combined age is:\", age11)\n",
    "else: # Otherwise everything is good.\n",
    "    print(\"Everything is good!\", combined_age, \"is the same as\", age11)"
   ]
  },
  {
   "cell_type": "markdown",
   "metadata": {},
   "source": [
    "# Casting and Type()\n",
    "Changing variable types from a string to an int, or from an int to a float is called \"casting.\""
   ]
  },
  {
   "cell_type": "code",
   "execution_count": null,
   "metadata": {},
   "outputs": [],
   "source": [
    "# Cast from one type to another using the following functions:\n",
    "# str(), int(), float(), bool()\n",
    "\n",
    "# String to an int, for example\n",
    "var = \"5\"\n",
    "print(type(var))\n",
    "var = int(var)\n",
    "print(type(var))"
   ]
  },
  {
   "cell_type": "markdown",
   "metadata": {},
   "source": [
    "**Challenge:** Can you use casting to change the variable types in the age5 and age6 example above so that you see \"Everything is good!\" printed to the screen?"
   ]
  },
  {
   "cell_type": "markdown",
   "metadata": {},
   "source": [
    "***\n",
    "\n",
    "## Mini Research Story\n",
    "\n",
    "### Summary \n",
    "This mini research story aims to calculate how much money an American worker will make based on the number of hours they work in a week. Traditionally, in America if you work over 40 hours in a single week, then you earn overtime for each hour over 40. Let's assume that overtime is 1.5 times the typical hourly rate.\n",
    "\n",
    "### Introduction\n",
    "So if someone makes \\$10 per hour and they work the following hours, this is how much they should earn:\n",
    "\n",
    "- 10 hours = \\$100\n",
    "- 40 hours = \\$400\n",
    "- 41 hours = \\$415\n",
    "- 60 hours = \\$700\n",
    "\n",
    "\n",
    "\n",
    "\n",
    "### Methods and Results\n",
    "\n",
    "A few questions to ask to work on our mini research story. What input (data) do we need? What do we need to calculate? What variables might we need? Do we need to add any logic or conditions? What do we need to output?\n"
   ]
  },
  {
   "cell_type": "code",
   "execution_count": null,
   "metadata": {},
   "outputs": [],
   "source": [
    "# Write the code for your mini research story that calculates pay for your methods and results.\n",
    "\n"
   ]
  },
  {
   "cell_type": "markdown",
   "metadata": {},
   "source": [
    "### Discussion\n",
    "\n",
    "What did you learn from this mini research story?"
   ]
  },
  {
   "cell_type": "markdown",
   "metadata": {},
   "source": [
    "\n",
    "***\n",
    "\n",
    "## Extra Challenge at Home"
   ]
  },
  {
   "cell_type": "markdown",
   "metadata": {},
   "source": [
    "## Manhattan Distance\n",
    "\n",
    "Let's look at Manhattan distance, one of several names for a distance that could be described as that of the sum of the legs of a right triangle instead of the hypotenuse. \n",
    "\n",
    "For instance, if we want to get from (0,0) to (3,4), instead of going directly between the two points (distance=5), we would go from (0,0) to (3,0) (distance=3) and then from (3,0) to (3,4) (distance=4) for a total distance of 7, the Manhattan distance. \n",
    "\n",
    "The formula should be **distance = |X1 - X2|+|Y1 - Y2|**\n",
    "\n",
    "In the code below, calculate the manhattan distance between two points. "
   ]
  },
  {
   "cell_type": "code",
   "execution_count": null,
   "metadata": {},
   "outputs": [],
   "source": []
  },
  {
   "cell_type": "markdown",
   "metadata": {},
   "source": [
    "Rather than hard coding the locations use the cell below to ask the user for the coordinate information and find the manhattan distance. Specifically, for each coordinate in the two points, define a variable that uses the **input()** statement to receive input from the user. Print the calculated manhattan distance between the points in an easy to read fashion. If you run into issues, then make sure to check your data types. Be sure to comment your code!"
   ]
  },
  {
   "cell_type": "code",
   "execution_count": null,
   "metadata": {},
   "outputs": [],
   "source": []
  }
 ],
 "metadata": {
  "kernelspec": {
   "display_name": "Python 3",
   "language": "python",
   "name": "python3"
  },
  "language_info": {
   "codemirror_mode": {
    "name": "ipython",
    "version": 3
   },
   "file_extension": ".py",
   "mimetype": "text/x-python",
   "name": "python",
   "nbconvert_exporter": "python",
   "pygments_lexer": "ipython3",
   "version": "3.7.0"
  }
 },
 "nbformat": 4,
 "nbformat_minor": 2
}
