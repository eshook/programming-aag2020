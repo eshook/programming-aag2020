{
 "cells": [
  {
   "cell_type": "markdown",
   "metadata": {},
   "source": [
    "# Welcome!\n",
    "This is a Computational Notebook. More specifically, this is a Jupyter Notebook (https://jupyter.org/). You will use computational notebooks to learn how to program in Python. \n",
    "\n",
    "In this first activity we will focus on using notebooks to tell your research story.  This is a crucial step, because it is easy to forget *why* you are programming when you are trying to figure out how to code. By creating a computational notebook that outlines your research story you can remind yourself what you want your code to do. This is helpful to direct your code and your learning to achieve your research goals.\n"
   ]
  }
 ],
 "metadata": {
  "kernelspec": {
   "display_name": "Python 3",
   "language": "python",
   "name": "python3"
  },
  "language_info": {
   "codemirror_mode": {
    "name": "ipython",
    "version": 3
   },
   "file_extension": ".py",
   "mimetype": "text/x-python",
   "name": "python",
   "nbconvert_exporter": "python",
   "pygments_lexer": "ipython3",
   "version": "3.7.0"
  }
 },
 "nbformat": 4,
 "nbformat_minor": 2
}
