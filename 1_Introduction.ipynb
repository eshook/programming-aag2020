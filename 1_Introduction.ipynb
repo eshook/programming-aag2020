{
 "cells": [
  {
   "cell_type": "markdown",
   "metadata": {},
   "source": [
    "# Welcome!\n",
    "This is a Computational Notebook. More specifically, this is a Jupyter Notebook (https://jupyter.org/). You will use computational notebooks to learn how to program in Python. \n",
    "\n",
    "In this first activity we will focus on using notebooks to tell your research story.  This is a crucial step, because it is easy to forget *why* you are programming when you are trying to figure out how to code. By creating a computational notebook that outlines your research story you can remind yourself what you want your code to do. "
   ]
  },
  {
   "cell_type": "markdown",
   "metadata": {},
   "source": [
    "## Markdown\n",
    "\n",
    "We use a simple language called Markdown to create formatted text in Jupyter Notebooks. \n",
    "\n",
    "Here are a few simple examples:\n",
    "\n",
    "*italics*\n",
    "\n",
    "**bold**\n",
    "\n",
    " 1. numbered\n",
    " 2. list\n",
    "\n",
    "\n",
    " - bulleted\n",
    " - list\n",
    "\n",
    "A little line\n",
    "\n",
    "***\n",
    "\n",
    "\n",
    "# Header 1\n",
    "## Header 2\n",
    "### Header 3\n",
    "\n",
    "***\n",
    "\n",
    "If you want to learn about Markdown take a look at these two resources:\n",
    "\n",
    "https://jupyter-notebook.readthedocs.io/en/stable/examples/Notebook/Working%20With%20Markdown%20Cells.html\n",
    "https://medium.com/@ingeh/markdown-for-jupyter-notebooks-cheatsheet-386c05aeebed\n",
    "\n",
    "***\n",
    "\n",
    "**<font color=\"red\">[ IMPORTANT TODO ]</font> Double click on the text.** This will open up the Markdown cell and you will see the language behind the formatted text! You can see how to format the text. Once you are done formatting click the \"Run\" button above. That will \"Run\" the Markdown language and will render the cell into formatted text again.\n",
    "\n",
    "Try it yourself by filling in your research story below. Feel free to be brief today. You can share your story with other participants and get feedback or ideas on how to turn your research story into reality. You can double click each cell below, fill in the information, and then click \"Run\" to render the cell.\n"
   ]
  },
  {
   "cell_type": "markdown",
   "metadata": {},
   "source": [
    "***\n",
    "\n",
    "# My Research Story\n",
    "\n",
    "***"
   ]
  },
  {
   "cell_type": "markdown",
   "metadata": {},
   "source": [
    "\n",
    "# Grand title for my research story\n",
    "\n",
    "This is a brief summary of your research. For example, this story is about how to make a story. It follows the IMRAD method of organization, which is common in some science fields. To read more about it you can visit: https://en.wikipedia.org/wiki/IMRAD.\n",
    "\n",
    "## Introduction\n",
    "\n",
    "A longer introduction. Here feel free to include references to related work and broader background.\n",
    "\n"
   ]
  },
  {
   "cell_type": "markdown",
   "metadata": {},
   "source": [
    "## Methods\n",
    "\n",
    "Describe your overall research design here.\n",
    "\n",
    "This is also where you will also eventually add code to implement (at least some) of the methods. \n",
    "\n",
    "\n"
   ]
  },
  {
   "cell_type": "code",
   "execution_count": null,
   "metadata": {},
   "outputs": [],
   "source": [
    "# This is a Code Cell.\n",
    "# You will learn how to write Python code for this cell very soon!"
   ]
  },
  {
   "cell_type": "markdown",
   "metadata": {},
   "source": [
    "## Results\n",
    "\n",
    "This is where you describe what results you expect. This will tell you what your code in methods needs to do. It also tells you what code you will need to write to analyze or visualize the results. If you need a bar chart, then list it here. If you need a certain statical result, then list it here. If you need a map, then list it here. \n"
   ]
  },
  {
   "cell_type": "markdown",
   "metadata": {},
   "source": [
    "## Discussion\n",
    "\n",
    "Talk about the big picture and the impact once your research is done. It can be useful to return to the discussion when you are stuck coding to keep yourself motivated. Remind yourself why you are learning to program and what kind of impact you can make once you learn to program."
   ]
  }
 ],
 "metadata": {
  "kernelspec": {
   "display_name": "Python 3",
   "language": "python",
   "name": "python3"
  },
  "language_info": {
   "codemirror_mode": {
    "name": "ipython",
    "version": 3
   },
   "file_extension": ".py",
   "mimetype": "text/x-python",
   "name": "python",
   "nbconvert_exporter": "python",
   "pygments_lexer": "ipython3",
   "version": "3.7.0"
  }
 },
 "nbformat": 4,
 "nbformat_minor": 2
}
